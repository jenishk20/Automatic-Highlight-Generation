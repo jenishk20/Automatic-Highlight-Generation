{
 "cells": [
  {
   "cell_type": "code",
   "execution_count": null,
   "metadata": {
    "vscode": {
     "languageId": "plaintext"
    }
   },
   "outputs": [],
   "source": [
    "from SoccerNet.Downloader import SoccerNetDownloader\n",
    "mySoccerNetDownloader=SoccerNetDownloader(LocalDirectory=\"data\")\n",
    "\n",
    "mySoccerNetDownloader.password = \"s0cc3rn3t\"\n",
    "mySoccerNetDownloader.downloadGames(files=[\"1_720p.mkv\", \"2_720p.mkv\", \"Labels-v2.json\"], split=[\"train\",\"valid\",\"test\",\"challenge\"])"
   ]
  },
  {
   "cell_type": "code",
   "execution_count": null,
   "metadata": {
    "vscode": {
     "languageId": "plaintext"
    }
   },
   "outputs": [],
   "source": []
  }
 ],
 "metadata": {
  "language_info": {
   "name": "python"
  }
 },
 "nbformat": 4,
 "nbformat_minor": 2
}
