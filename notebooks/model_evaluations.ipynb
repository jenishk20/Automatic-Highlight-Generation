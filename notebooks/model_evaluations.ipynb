{
 "cells": [
  {
   "cell_type": "code",
   "execution_count": 1,
   "id": "3ec3b226",
   "metadata": {},
   "outputs": [
    {
     "name": "stderr",
     "output_type": "stream",
     "text": [
      "c:\\Users\\vidit\\Documents\\ML\\Automatic-Highlight-Generation\\myenv\\Lib\\site-packages\\tqdm\\auto.py:21: TqdmWarning: IProgress not found. Please update jupyter and ipywidgets. See https://ipywidgets.readthedocs.io/en/stable/user_install.html\n",
      "  from .autonotebook import tqdm as notebook_tqdm\n"
     ]
    }
   ],
   "source": [
    "import cv2\n",
    "import torch\n",
    "import json\n",
    "import numpy as np\n",
    "import torch.nn as nn\n",
    "from pathlib import Path\n",
    "import albumentations as A\n",
    "import matplotlib.pyplot as plt\n",
    "import torchvision.models.video as video_models\n",
    "from torch.utils.data import Dataset, DataLoader\n",
    "import os\n",
    "import random\n",
    "from sklearn.metrics import accuracy_score, confusion_matrix, classification_report\n",
    "import seaborn as sns\n",
    "from tqdm import tqdm\n",
    "import pandas as pd\n",
    "import shutil\n",
    "from datetime import datetime"
   ]
  },
  {
   "cell_type": "markdown",
   "id": "226b83bb",
   "metadata": {},
   "source": [
    "# Generating test data"
   ]
  },
  {
   "cell_type": "code",
   "execution_count": null,
   "id": "4fb5fd3a",
   "metadata": {},
   "outputs": [
    {
     "name": "stdout",
     "output_type": "stream",
     "text": [
      "Found 9 class folders.\n"
     ]
    },
    {
     "name": "stderr",
     "output_type": "stream",
     "text": [
      "Processing classes:   0%|          | 0/9 [00:00<?, ?it/s]"
     ]
    },
    {
     "name": "stdout",
     "output_type": "stream",
     "text": [
      "  - Corner: Copied 20 videos"
     ]
    },
    {
     "name": "stderr",
     "output_type": "stream",
     "text": [
      "Processing classes:  22%|██▏       | 2/9 [00:00<00:01,  5.50it/s]"
     ]
    },
    {
     "name": "stdout",
     "output_type": "stream",
     "text": [
      "\n",
      "  - Foul: Copied 20 videos\n"
     ]
    },
    {
     "name": "stderr",
     "output_type": "stream",
     "text": [
      "Processing classes:  33%|███▎      | 3/9 [00:00<00:01,  3.58it/s]"
     ]
    },
    {
     "name": "stdout",
     "output_type": "stream",
     "text": [
      "  - Goal: Copied 20 videos\n"
     ]
    },
    {
     "name": "stderr",
     "output_type": "stream",
     "text": [
      "Processing classes:  44%|████▍     | 4/9 [00:00<00:01,  3.96it/s]"
     ]
    },
    {
     "name": "stdout",
     "output_type": "stream",
     "text": [
      "  - Kick-off: Copied 20 videos\n",
      "Warning: Class Penalty has only 2 videos, using all of them.\n",
      "  - Penalty: Copied 2 videos\n",
      "Warning: Class Red card has only 4 videos, using all of them.\n",
      "  - Red card: Copied 4 videos\n"
     ]
    },
    {
     "name": "stderr",
     "output_type": "stream",
     "text": [
      "Processing classes:  78%|███████▊  | 7/9 [00:01<00:00,  5.30it/s]"
     ]
    },
    {
     "name": "stdout",
     "output_type": "stream",
     "text": [
      "  - Shots off target: Copied 20 videos\n"
     ]
    },
    {
     "name": "stderr",
     "output_type": "stream",
     "text": [
      "Processing classes:  89%|████████▉ | 8/9 [00:01<00:00,  4.66it/s]"
     ]
    },
    {
     "name": "stdout",
     "output_type": "stream",
     "text": [
      "  - Shots on target: Copied 20 videos\n"
     ]
    },
    {
     "name": "stderr",
     "output_type": "stream",
     "text": [
      "Processing classes: 100%|██████████| 9/9 [00:02<00:00,  4.47it/s]"
     ]
    },
    {
     "name": "stdout",
     "output_type": "stream",
     "text": [
      "  - Yellow card: Copied 20 videos\n",
      "\n",
      "Test set creation complete!\n",
      "Created test set with 146 videos across 9 classes.\n",
      "Test set location: ./test\n"
     ]
    },
    {
     "name": "stderr",
     "output_type": "stream",
     "text": [
      "\n"
     ]
    }
   ],
   "source": [
    "\n",
    "SOURCE_DIR = '../data/9-classes'\n",
    "TARGET_DIR = '../data/test9-classes'\n",
    "NUM_VIDEOS_PER_CLASS = 20\n",
    "RANDOM_SEED = 42\n",
    "\n",
    "# Setting random seed for reproducibility\n",
    "random.seed(RANDOM_SEED)\n",
    "\n",
    "# Creating target directory if it doesn't exist\n",
    "os.makedirs(TARGET_DIR, exist_ok=True)\n",
    "\n",
    "# Getting all class folders\n",
    "class_folders = [f for f in os.listdir(SOURCE_DIR) \n",
    "                 if os.path.isdir(os.path.join(SOURCE_DIR, f))]\n",
    "\n",
    "print(f\"Found {len(class_folders)} class folders.\")\n",
    "\n",
    "# Processing each class folder\n",
    "for class_folder in tqdm(class_folders, desc=\"Processing classes\"):\n",
    "    source_class_path = os.path.join(SOURCE_DIR, class_folder)\n",
    "    target_class_path = os.path.join(TARGET_DIR, class_folder)\n",
    "    \n",
    "    # Creating class folder in target directory\n",
    "    os.makedirs(target_class_path, exist_ok=True)\n",
    "    \n",
    "    # Getting all video files\n",
    "    video_files = [f for f in os.listdir(source_class_path) \n",
    "                  if f.endswith(('.mp4', '.avi', '.mov', '.mkv'))]\n",
    "    \n",
    "    # Checking if we have enough videos\n",
    "    if len(video_files) <= NUM_VIDEOS_PER_CLASS:\n",
    "        print(f\"Warning: Class {class_folder} has only {len(video_files)} videos, \"\n",
    "              f\"using all of them.\")\n",
    "        selected_videos = video_files\n",
    "    else:\n",
    "        selected_videos = random.sample(video_files, NUM_VIDEOS_PER_CLASS)\n",
    "    \n",
    "    for video in selected_videos:\n",
    "        source_file = os.path.join(source_class_path, video)\n",
    "        target_file = os.path.join(target_class_path, video)\n",
    "        shutil.copy2(source_file, target_file)\n",
    "    \n",
    "    print(f\"  - {class_folder}: Copied {len(selected_videos)} videos\")\n",
    "\n",
    "total_videos = sum(len(os.listdir(os.path.join(TARGET_DIR, class_folder))) \n",
    "                   for class_folder in class_folders)\n",
    "\n",
    "print(f\"\\nTest set creation complete!\")\n",
    "print(f\"Created test set with {total_videos} videos across {len(class_folders)} classes.\")\n",
    "print(f\"Test set location: {TARGET_DIR}\")"
   ]
  },
  {
   "cell_type": "markdown",
   "id": "9d6a692b",
   "metadata": {},
   "source": [
    "# Getting the video paths along with labels"
   ]
  },
  {
   "cell_type": "code",
   "execution_count": null,
   "id": "a8f73699",
   "metadata": {},
   "outputs": [],
   "source": [
    "def load_video_paths(data_root):\n",
    "    video_paths = []\n",
    "    labels = []\n",
    "    class_names = sorted(os.listdir(data_root))\n",
    "    label_to_idx = {name: i for i, name in enumerate(class_names)}\n",
    "\n",
    "    for class_name in class_names:\n",
    "        class_dir = Path(data_root) / class_name\n",
    "        for video_file in class_dir.glob(\"*.mp4\"):\n",
    "            video_paths.append(str(video_file))\n",
    "            labels.append(label_to_idx[class_name])\n",
    "    return video_paths, labels, label_to_idx\n",
    "\n",
    "video_paths, labels, label_to_idx = load_video_paths(\"../data/test9-classes\")\n",
    "idx_to_label = {v: k for k, v in label_to_idx.items()}"
   ]
  },
  {
   "cell_type": "code",
   "execution_count": 5,
   "id": "0d712b28",
   "metadata": {},
   "outputs": [],
   "source": [
    "class SoccerDataset(Dataset):\n",
    "    def __init__(self, video_paths, labels, config):\n",
    "        self.video_paths = video_paths\n",
    "        self.labels = labels\n",
    "        self.config = config\n",
    "        self.transform = A.Compose([\n",
    "            A.Resize(height=config['frame_height'], width=config['frame_width']),\n",
    "            A.Normalize(mean=[0.43216, 0.394666, 0.37645], std=[0.22803, 0.22145, 0.216989])\n",
    "        ])\n",
    "\n",
    "    def __len__(self):\n",
    "        return len(self.video_paths)\n",
    "\n",
    "    def __getitem__(self, idx):\n",
    "        path = self.video_paths[idx]\n",
    "        label = self.labels[idx]\n",
    "        frames = self._load_video(path)\n",
    "        return frames, label\n",
    "\n",
    "    def _load_video(self, path):\n",
    "        cap = cv2.VideoCapture(path)\n",
    "        frame_count = int(cap.get(cv2.CAP_PROP_FRAME_COUNT))\n",
    "        indices = np.linspace(0, frame_count - 1, self.config['num_frames'], dtype=int)\n",
    "        frames = []\n",
    "\n",
    "        for i in indices:\n",
    "            cap.set(cv2.CAP_PROP_POS_FRAMES, i)\n",
    "            ret, frame = cap.read()\n",
    "            if not ret:\n",
    "                continue\n",
    "            frame = cv2.cvtColor(frame, cv2.COLOR_BGR2RGB)\n",
    "            frame = self.transform(image=frame)['image']\n",
    "            frames.append(frame)\n",
    "\n",
    "        cap.release()\n",
    "\n",
    "        frames = np.array(frames)\n",
    "        frames = np.transpose(frames, (3, 0, 1, 2))\n",
    "        return torch.from_numpy(frames).float()\n"
   ]
  },
  {
   "cell_type": "markdown",
   "id": "416e4e60",
   "metadata": {},
   "source": [
    "# Model architecture"
   ]
  },
  {
   "cell_type": "code",
   "execution_count": 6,
   "id": "6c804f27",
   "metadata": {},
   "outputs": [],
   "source": [
    "class R3DClassifier(nn.Module):\n",
    "    def __init__(self, num_classes, config):\n",
    "        super(R3DClassifier, self).__init__()\n",
    "\n",
    "        model_type = config['model_type'].lower()\n",
    "        pretrained = config['pretrained']\n",
    "        dropout = config['dropout']\n",
    "\n",
    "        if model_type == 'r3d':\n",
    "            self.model = video_models.r3d_18(pretrained=pretrained)\n",
    "        elif model_type == 'mc3':\n",
    "            self.model = video_models.mc3_18(pretrained=pretrained)\n",
    "        elif model_type == 'r2plus1d':\n",
    "            self.model = video_models.r2plus1d_18(pretrained=pretrained)\n",
    "        else:\n",
    "            raise ValueError(f\"Unsupported model_type '{model_type}' in CONFIG\")\n",
    "\n",
    "        in_features = self.model.fc.in_features\n",
    "        self.model.fc = nn.Sequential(\n",
    "            nn.Dropout(dropout),\n",
    "            nn.Linear(in_features, num_classes)\n",
    "        )\n",
    "\n",
    "    def forward(self, x):\n",
    "        return self.model(x)\n"
   ]
  },
  {
   "cell_type": "markdown",
   "id": "4b4d9a8c",
   "metadata": {},
   "source": [
    "# Evaluating the model"
   ]
  },
  {
   "cell_type": "code",
   "execution_count": null,
   "id": "4ae29618",
   "metadata": {},
   "outputs": [],
   "source": [
    "def evaluate_model(model_path, config, video_paths, labels, idx_to_label):\n",
    "    # Creating test dataset and dataloader\n",
    "    test_loader = DataLoader(SoccerDataset(video_paths, labels, config), batch_size=config['batch_size'], shuffle=True)\n",
    "    \n",
    "    # Initializing and loading model we need to evaluate\n",
    "    model = R3DClassifier(num_classes=len(idx_to_label), config=config).to(config['device'])\n",
    "    model.load_state_dict(torch.load(model_path, map_location=config['device']))\n",
    "    model.eval()\n",
    "    \n",
    "    # To store model results\n",
    "    all_preds = []\n",
    "    all_targets = []\n",
    "    all_probs = []\n",
    "    \n",
    "    with torch.no_grad():\n",
    "        for videos, batch_labels in tqdm(test_loader, desc=\"Evaluating\"):\n",
    "            videos, batch_labels = videos.to(config['device']), batch_labels.to(config['device'])\n",
    "            outputs = model(videos)\n",
    "            probs = torch.softmax(outputs, dim=1)\n",
    "            \n",
    "            all_probs.extend(probs.cpu().numpy())\n",
    "            all_preds.extend(torch.argmax(outputs, 1).cpu().numpy())\n",
    "            all_targets.extend(batch_labels.cpu().numpy())\n",
    "    \n",
    "    # Calculate metrics\n",
    "    accuracy = accuracy_score(all_targets, all_preds)\n",
    "    conf_matrix = confusion_matrix(all_targets, all_preds)\n",
    "    class_report = classification_report(all_targets, all_preds, \n",
    "                                         target_names=[idx_to_label[i] for i in range(len(idx_to_label))], \n",
    "                                         output_dict=True)\n",
    "    \n",
    "    # Return results\n",
    "    return {\n",
    "        'accuracy': accuracy,\n",
    "        'confusion_matrix': conf_matrix,\n",
    "        'classification_report': class_report,\n",
    "        'predictions': all_preds,\n",
    "        'targets': all_targets,\n",
    "        'probabilities': all_probs\n",
    "    }"
   ]
  },
  {
   "cell_type": "markdown",
   "id": "f9796842",
   "metadata": {},
   "source": [
    "# Visualizing the results"
   ]
  },
  {
   "cell_type": "code",
   "execution_count": 8,
   "id": "1a078ad6",
   "metadata": {},
   "outputs": [],
   "source": [
    "def visualize_results(results, idx_to_label, config_name, save_dir=\"results\"):\n",
    "    os.makedirs(save_dir, exist_ok=True)\n",
    "    \n",
    "    # Confusion Matrix\n",
    "    plt.figure(figsize=(12, 10))\n",
    "    labels = [idx_to_label[i] for i in range(len(idx_to_label))]\n",
    "    conf_matrix = results['confusion_matrix']\n",
    "    \n",
    "    # Normalize confusion matrix\n",
    "    conf_matrix_norm = conf_matrix.astype('float') / conf_matrix.sum(axis=1)[:, np.newaxis]\n",
    "    \n",
    "    sns.heatmap(conf_matrix_norm, annot=True, fmt='.2f', cmap='Blues', \n",
    "                xticklabels=labels, yticklabels=labels)\n",
    "    plt.title(f'Normalized Confusion Matrix - {config_name}')\n",
    "    plt.ylabel('True Label')\n",
    "    plt.xlabel('Predicted Label')\n",
    "    plt.tight_layout()\n",
    "    plt.savefig(os.path.join(save_dir, f'{config_name}_confusion_matrix.png'), dpi=300)\n",
    "    plt.close()\n",
    "    \n",
    "    # Class-wise performance\n",
    "    class_report = results['classification_report']\n",
    "    print(class_report)\n",
    "    df = pd.DataFrame(class_report).transpose()\n",
    "    \n",
    "    # Filter out the avg/total rows\n",
    "    df = df[~df.index.isin(['accuracy', 'macro avg', 'weighted avg'])]\n",
    "    \n",
    "    plt.figure(figsize=(14, 8))\n",
    "    sns.barplot(x=df.index, y=df['f1-score'])\n",
    "    plt.title(f'F1-Score by Class - {config_name}')\n",
    "    plt.ylabel('F1-Score')\n",
    "    plt.xlabel('Class')\n",
    "    plt.xticks(rotation=45, ha='right')\n",
    "    plt.ylim(0, 1.0)\n",
    "    plt.tight_layout()\n",
    "    plt.savefig(os.path.join(save_dir, f'{config_name}_f1_scores.png'), dpi=300)\n",
    "    plt.close()\n",
    "    \n",
    "    # Save full results as JSON\n",
    "    clean_results = {\n",
    "        'accuracy': float(results['accuracy'])\n",
    "    }\n",
    "\n",
    "    # Safely process classification report\n",
    "    if isinstance(class_report, dict):\n",
    "        clean_class_report = {}\n",
    "        for k, v in class_report.items():\n",
    "            if isinstance(v, dict):\n",
    "                clean_class_report[k] = {\n",
    "                    kk: float(vv) for kk, vv in v.items() \n",
    "                    if isinstance(vv, (int, float))\n",
    "                }\n",
    "            elif isinstance(v, (int, float)):\n",
    "                clean_class_report[k] = float(v)\n",
    "        clean_results['classification_report'] = clean_class_report\n",
    "    \n",
    "    with open(os.path.join(save_dir, f'{config_name}_results.json'), 'w') as f:\n",
    "        json.dump(clean_results, f, indent=4)\n",
    "    \n",
    "    return\n"
   ]
  },
  {
   "cell_type": "markdown",
   "id": "e237b132",
   "metadata": {},
   "source": [
    "# Ablation study for models trained on different configurations"
   ]
  },
  {
   "cell_type": "code",
   "execution_count": 9,
   "id": "2ff841ab",
   "metadata": {},
   "outputs": [],
   "source": [
    "def run_ablation_study(configs, model_paths, test_folder, video_paths, labels, idx_to_label, output_dir=\"ablation_results\"):\n",
    "    # Create output directory with timestamp\n",
    "    timestamp = datetime.now().strftime('%Y%m%d_%H%M%S')\n",
    "    output_dir = f\"{output_dir}_{timestamp}\"\n",
    "    os.makedirs(output_dir, exist_ok=True)\n",
    "    \n",
    "    # Change working directory to output directory\n",
    "    original_dir = os.getcwd()\n",
    "    os.chdir(output_dir)\n",
    "    \n",
    "    # Create results directory\n",
    "    os.makedirs('results', exist_ok=True)\n",
    "    \n",
    "    # Load test data (only need to do this once)\n",
    "    \n",
    "    # Results container\n",
    "    comparative_results = {}\n",
    "    \n",
    "    # Evaluate each model\n",
    "    for i, (config, model_path) in enumerate(zip(configs, model_paths)):\n",
    "        config_name = f\"config_{i+1}\"\n",
    "        print(f\"\\n{'='*50}\\nEvaluating {config_name}: {model_path}\\n{'='*50}\")\n",
    "        \n",
    "        # Evaluate model\n",
    "        results = evaluate_model(model_path, config, video_paths, labels, idx_to_label)\n",
    "        \n",
    "        # Visualize results\n",
    "        visualize_results(results, idx_to_label, config_name)\n",
    "        \n",
    "        # Save to comparative results\n",
    "        comparative_results[config_name] = {\n",
    "            'accuracy': float(results['accuracy']),\n",
    "            'config': {k: str(v) if isinstance(v, torch.device) else v \n",
    "                      for k, v in config.items() if k not in ['device']},\n",
    "            'model_path': model_path\n",
    "        }\n",
    "    \n",
    "    # Create comparative visualization\n",
    "    configs_df = pd.DataFrame({\n",
    "        'Configuration': [f\"Config {i+1}\" for i in range(len(configs))],\n",
    "        'Accuracy': [comparative_results[f\"config_{i+1}\"]['accuracy'] for i in range(len(configs))]\n",
    "    })\n",
    "    \n",
    "    plt.figure(figsize=(10, 6))\n",
    "    sns.barplot(x='Configuration', y='Accuracy', data=configs_df)\n",
    "    plt.title('Accuracy Comparison Across Configurations')\n",
    "    plt.ylim(0, 1.0)\n",
    "    plt.grid(axis='y', linestyle='--', alpha=0.7)\n",
    "    plt.tight_layout()\n",
    "    plt.savefig('results/comparative_accuracy.png', dpi=300)\n",
    "    plt.close()\n",
    "    \n",
    "    # Save comparative results\n",
    "    with open('results/ablation_study_results.json', 'w') as f:\n",
    "        json.dump(comparative_results, f, indent=4)\n",
    "    \n",
    "    print(f\"\\nResults saved to {output_dir}\")\n",
    "    os.chdir(original_dir)\n",
    "    \n",
    "    return comparative_results\n"
   ]
  },
  {
   "cell_type": "code",
   "execution_count": null,
   "id": "06ad481a",
   "metadata": {},
   "outputs": [
    {
     "name": "stdout",
     "output_type": "stream",
     "text": [
      "\n",
      "==================================================\n",
      "Evaluating config_1: C:\\Users\\vidit\\Documents\\ML\\Automatic-Highlight-Generation\\models\\best_model_config1.pth\n",
      "==================================================\n"
     ]
    },
    {
     "name": "stderr",
     "output_type": "stream",
     "text": [
      "Evaluating: 100%|██████████| 37/37 [08:04<00:00, 13.10s/it]\n",
      "c:\\Users\\vidit\\Documents\\ML\\Automatic-Highlight-Generation\\myenv\\Lib\\site-packages\\sklearn\\metrics\\_classification.py:1565: UndefinedMetricWarning: Precision is ill-defined and being set to 0.0 in labels with no predicted samples. Use `zero_division` parameter to control this behavior.\n",
      "  _warn_prf(average, modifier, f\"{metric.capitalize()} is\", len(result))\n",
      "c:\\Users\\vidit\\Documents\\ML\\Automatic-Highlight-Generation\\myenv\\Lib\\site-packages\\sklearn\\metrics\\_classification.py:1565: UndefinedMetricWarning: Precision is ill-defined and being set to 0.0 in labels with no predicted samples. Use `zero_division` parameter to control this behavior.\n",
      "  _warn_prf(average, modifier, f\"{metric.capitalize()} is\", len(result))\n",
      "c:\\Users\\vidit\\Documents\\ML\\Automatic-Highlight-Generation\\myenv\\Lib\\site-packages\\sklearn\\metrics\\_classification.py:1565: UndefinedMetricWarning: Precision is ill-defined and being set to 0.0 in labels with no predicted samples. Use `zero_division` parameter to control this behavior.\n",
      "  _warn_prf(average, modifier, f\"{metric.capitalize()} is\", len(result))\n"
     ]
    },
    {
     "name": "stdout",
     "output_type": "stream",
     "text": [
      "{'Corner': {'precision': 1.0, 'recall': 1.0, 'f1-score': 1.0, 'support': 20.0}, 'Foul': {'precision': 1.0, 'recall': 0.9, 'f1-score': 0.9473684210526315, 'support': 20.0}, 'Goal': {'precision': 1.0, 'recall': 0.9, 'f1-score': 0.9473684210526315, 'support': 20.0}, 'Kick-off': {'precision': 0.9047619047619048, 'recall': 0.95, 'f1-score': 0.926829268292683, 'support': 20.0}, 'Penalty': {'precision': 0.0, 'recall': 0.0, 'f1-score': 0.0, 'support': 2.0}, 'Red card': {'precision': 1.0, 'recall': 0.5, 'f1-score': 0.6666666666666666, 'support': 4.0}, 'Shots off target': {'precision': 0.72, 'recall': 0.9, 'f1-score': 0.8, 'support': 20.0}, 'Shots on target': {'precision': 0.8, 'recall': 0.8, 'f1-score': 0.8, 'support': 20.0}, 'Yellow card': {'precision': 0.8636363636363636, 'recall': 0.95, 'f1-score': 0.9047619047619048, 'support': 20.0}, 'accuracy': 0.8904109589041096, 'macro avg': {'precision': 0.8098220298220298, 'recall': 0.7666666666666667, 'f1-score': 0.7769994090918353, 'support': 146.0}, 'weighted avg': {'precision': 0.8888216806025027, 'recall': 0.8904109589041096, 'f1-score': 0.884885116231943, 'support': 146.0}}\n",
      "\n",
      "==================================================\n",
      "Evaluating config_2: C:\\Users\\vidit\\Documents\\ML\\Automatic-Highlight-Generation\\models\\best_model_config2.pth\n",
      "==================================================\n"
     ]
    },
    {
     "name": "stderr",
     "output_type": "stream",
     "text": [
      "c:\\Users\\vidit\\Documents\\ML\\Automatic-Highlight-Generation\\myenv\\Lib\\site-packages\\torchvision\\models\\_utils.py:208: UserWarning: The parameter 'pretrained' is deprecated since 0.13 and may be removed in the future, please use 'weights' instead.\n",
      "  warnings.warn(\n",
      "c:\\Users\\vidit\\Documents\\ML\\Automatic-Highlight-Generation\\myenv\\Lib\\site-packages\\torchvision\\models\\_utils.py:223: UserWarning: Arguments other than a weight enum or `None` for 'weights' are deprecated since 0.13 and may be removed in the future. The current behavior is equivalent to passing `weights=R3D_18_Weights.KINETICS400_V1`. You can also use `weights=R3D_18_Weights.DEFAULT` to get the most up-to-date weights.\n",
      "  warnings.warn(msg)\n",
      "Evaluating: 100%|██████████| 19/19 [09:21<00:00, 29.53s/it]\n",
      "c:\\Users\\vidit\\Documents\\ML\\Automatic-Highlight-Generation\\myenv\\Lib\\site-packages\\sklearn\\metrics\\_classification.py:1565: UndefinedMetricWarning: Precision is ill-defined and being set to 0.0 in labels with no predicted samples. Use `zero_division` parameter to control this behavior.\n",
      "  _warn_prf(average, modifier, f\"{metric.capitalize()} is\", len(result))\n",
      "c:\\Users\\vidit\\Documents\\ML\\Automatic-Highlight-Generation\\myenv\\Lib\\site-packages\\sklearn\\metrics\\_classification.py:1565: UndefinedMetricWarning: Precision is ill-defined and being set to 0.0 in labels with no predicted samples. Use `zero_division` parameter to control this behavior.\n",
      "  _warn_prf(average, modifier, f\"{metric.capitalize()} is\", len(result))\n",
      "c:\\Users\\vidit\\Documents\\ML\\Automatic-Highlight-Generation\\myenv\\Lib\\site-packages\\sklearn\\metrics\\_classification.py:1565: UndefinedMetricWarning: Precision is ill-defined and being set to 0.0 in labels with no predicted samples. Use `zero_division` parameter to control this behavior.\n",
      "  _warn_prf(average, modifier, f\"{metric.capitalize()} is\", len(result))\n"
     ]
    },
    {
     "name": "stdout",
     "output_type": "stream",
     "text": [
      "{'Corner': {'precision': 1.0, 'recall': 1.0, 'f1-score': 1.0, 'support': 20.0}, 'Foul': {'precision': 0.9473684210526315, 'recall': 0.9, 'f1-score': 0.9230769230769231, 'support': 20.0}, 'Goal': {'precision': 0.9473684210526315, 'recall': 0.9, 'f1-score': 0.9230769230769231, 'support': 20.0}, 'Kick-off': {'precision': 0.9523809523809523, 'recall': 1.0, 'f1-score': 0.975609756097561, 'support': 20.0}, 'Penalty': {'precision': 0.0, 'recall': 0.0, 'f1-score': 0.0, 'support': 2.0}, 'Red card': {'precision': 1.0, 'recall': 0.75, 'f1-score': 0.8571428571428571, 'support': 4.0}, 'Shots off target': {'precision': 1.0, 'recall': 0.7, 'f1-score': 0.8235294117647058, 'support': 20.0}, 'Shots on target': {'precision': 0.6896551724137931, 'recall': 1.0, 'f1-score': 0.8163265306122449, 'support': 20.0}, 'Yellow card': {'precision': 0.9523809523809523, 'recall': 1.0, 'f1-score': 0.975609756097561, 'support': 20.0}, 'accuracy': 0.910958904109589, 'macro avg': {'precision': 0.8321282132534401, 'recall': 0.8055555555555556, 'f1-score': 0.8104857953187529, 'support': 146.0}, 'weighted avg': {'precision': 0.9163224546960219, 'recall': 0.910958904109589, 'f1-score': 0.9052955989252726, 'support': 146.0}}\n",
      "\n",
      "==================================================\n",
      "Evaluating config_3: C:\\Users\\vidit\\Documents\\ML\\Automatic-Highlight-Generation\\models\\best_model_congif3.pth\n",
      "==================================================\n"
     ]
    },
    {
     "name": "stderr",
     "output_type": "stream",
     "text": [
      "c:\\Users\\vidit\\Documents\\ML\\Automatic-Highlight-Generation\\myenv\\Lib\\site-packages\\torchvision\\models\\_utils.py:208: UserWarning: The parameter 'pretrained' is deprecated since 0.13 and may be removed in the future, please use 'weights' instead.\n",
      "  warnings.warn(\n",
      "c:\\Users\\vidit\\Documents\\ML\\Automatic-Highlight-Generation\\myenv\\Lib\\site-packages\\torchvision\\models\\_utils.py:223: UserWarning: Arguments other than a weight enum or `None` for 'weights' are deprecated since 0.13 and may be removed in the future. The current behavior is equivalent to passing `weights=None`.\n",
      "  warnings.warn(msg)\n",
      "Evaluating: 100%|██████████| 37/37 [10:02<00:00, 16.28s/it]\n",
      "c:\\Users\\vidit\\Documents\\ML\\Automatic-Highlight-Generation\\myenv\\Lib\\site-packages\\sklearn\\metrics\\_classification.py:1565: UndefinedMetricWarning: Precision is ill-defined and being set to 0.0 in labels with no predicted samples. Use `zero_division` parameter to control this behavior.\n",
      "  _warn_prf(average, modifier, f\"{metric.capitalize()} is\", len(result))\n",
      "c:\\Users\\vidit\\Documents\\ML\\Automatic-Highlight-Generation\\myenv\\Lib\\site-packages\\sklearn\\metrics\\_classification.py:1565: UndefinedMetricWarning: Precision is ill-defined and being set to 0.0 in labels with no predicted samples. Use `zero_division` parameter to control this behavior.\n",
      "  _warn_prf(average, modifier, f\"{metric.capitalize()} is\", len(result))\n",
      "c:\\Users\\vidit\\Documents\\ML\\Automatic-Highlight-Generation\\myenv\\Lib\\site-packages\\sklearn\\metrics\\_classification.py:1565: UndefinedMetricWarning: Precision is ill-defined and being set to 0.0 in labels with no predicted samples. Use `zero_division` parameter to control this behavior.\n",
      "  _warn_prf(average, modifier, f\"{metric.capitalize()} is\", len(result))\n"
     ]
    },
    {
     "name": "stdout",
     "output_type": "stream",
     "text": [
      "{'Corner': {'precision': 0.76, 'recall': 0.95, 'f1-score': 0.8444444444444444, 'support': 20.0}, 'Foul': {'precision': 0.5333333333333333, 'recall': 0.8, 'f1-score': 0.64, 'support': 20.0}, 'Goal': {'precision': 0.8571428571428571, 'recall': 0.3, 'f1-score': 0.4444444444444444, 'support': 20.0}, 'Kick-off': {'precision': 0.7727272727272727, 'recall': 0.85, 'f1-score': 0.8095238095238095, 'support': 20.0}, 'Penalty': {'precision': 0.0, 'recall': 0.0, 'f1-score': 0.0, 'support': 2.0}, 'Red card': {'precision': 0.0, 'recall': 0.0, 'f1-score': 0.0, 'support': 4.0}, 'Shots off target': {'precision': 0.45714285714285713, 'recall': 0.8, 'f1-score': 0.5818181818181818, 'support': 20.0}, 'Shots on target': {'precision': 1.0, 'recall': 0.05, 'f1-score': 0.09523809523809523, 'support': 20.0}, 'Yellow card': {'precision': 0.6923076923076923, 'recall': 0.9, 'f1-score': 0.782608695652174, 'support': 20.0}, 'accuracy': 0.636986301369863, 'macro avg': {'precision': 0.5636282236282236, 'recall': 0.5166666666666667, 'f1-score': 0.4664530745690166, 'support': 146.0}, 'weighted avg': {'precision': 0.6948841113224675, 'recall': 0.636986301369863, 'f1-score': 0.5750791330302945, 'support': 146.0}}\n",
      "\n",
      "==================================================\n",
      "Evaluating config_4: C:\\Users\\vidit\\Documents\\ML\\Automatic-Highlight-Generation\\models\\best_model_config4.pth\n",
      "==================================================\n"
     ]
    },
    {
     "name": "stderr",
     "output_type": "stream",
     "text": [
      "c:\\Users\\vidit\\Documents\\ML\\Automatic-Highlight-Generation\\myenv\\Lib\\site-packages\\torchvision\\models\\_utils.py:208: UserWarning: The parameter 'pretrained' is deprecated since 0.13 and may be removed in the future, please use 'weights' instead.\n",
      "  warnings.warn(\n",
      "c:\\Users\\vidit\\Documents\\ML\\Automatic-Highlight-Generation\\myenv\\Lib\\site-packages\\torchvision\\models\\_utils.py:223: UserWarning: Arguments other than a weight enum or `None` for 'weights' are deprecated since 0.13 and may be removed in the future. The current behavior is equivalent to passing `weights=None`.\n",
      "  warnings.warn(msg)\n",
      "Evaluating: 100%|██████████| 19/19 [08:30<00:00, 26.86s/it]\n",
      "c:\\Users\\vidit\\Documents\\ML\\Automatic-Highlight-Generation\\myenv\\Lib\\site-packages\\sklearn\\metrics\\_classification.py:1565: UndefinedMetricWarning: Precision is ill-defined and being set to 0.0 in labels with no predicted samples. Use `zero_division` parameter to control this behavior.\n",
      "  _warn_prf(average, modifier, f\"{metric.capitalize()} is\", len(result))\n",
      "c:\\Users\\vidit\\Documents\\ML\\Automatic-Highlight-Generation\\myenv\\Lib\\site-packages\\sklearn\\metrics\\_classification.py:1565: UndefinedMetricWarning: Precision is ill-defined and being set to 0.0 in labels with no predicted samples. Use `zero_division` parameter to control this behavior.\n",
      "  _warn_prf(average, modifier, f\"{metric.capitalize()} is\", len(result))\n",
      "c:\\Users\\vidit\\Documents\\ML\\Automatic-Highlight-Generation\\myenv\\Lib\\site-packages\\sklearn\\metrics\\_classification.py:1565: UndefinedMetricWarning: Precision is ill-defined and being set to 0.0 in labels with no predicted samples. Use `zero_division` parameter to control this behavior.\n",
      "  _warn_prf(average, modifier, f\"{metric.capitalize()} is\", len(result))\n"
     ]
    },
    {
     "name": "stdout",
     "output_type": "stream",
     "text": [
      "{'Corner': {'precision': 0.6896551724137931, 'recall': 1.0, 'f1-score': 0.8163265306122449, 'support': 20.0}, 'Foul': {'precision': 0.6071428571428571, 'recall': 0.85, 'f1-score': 0.7083333333333334, 'support': 20.0}, 'Goal': {'precision': 0.6842105263157895, 'recall': 0.65, 'f1-score': 0.6666666666666666, 'support': 20.0}, 'Kick-off': {'precision': 0.8888888888888888, 'recall': 0.8, 'f1-score': 0.8421052631578947, 'support': 20.0}, 'Penalty': {'precision': 0.0, 'recall': 0.0, 'f1-score': 0.0, 'support': 2.0}, 'Red card': {'precision': 0.0, 'recall': 0.0, 'f1-score': 0.0, 'support': 4.0}, 'Shots off target': {'precision': 0.6, 'recall': 0.6, 'f1-score': 0.6, 'support': 20.0}, 'Shots on target': {'precision': 0.7777777777777778, 'recall': 0.35, 'f1-score': 0.4827586206896552, 'support': 20.0}, 'Yellow card': {'precision': 0.782608695652174, 'recall': 0.9, 'f1-score': 0.8372093023255814, 'support': 20.0}, 'accuracy': 0.7054794520547946, 'macro avg': {'precision': 0.5589204353545867, 'recall': 0.5722222222222223, 'f1-score': 0.5503777463094862, 'support': 146.0}, 'weighted avg': {'precision': 0.6890799887933261, 'recall': 0.7054794520547946, 'f1-score': 0.6785479064089557, 'support': 146.0}}\n",
      "\n",
      "Results saved to ablation_results_20250415_151458\n",
      "\n",
      "==== ABLATION STUDY RESULTS ====\n",
      "config_1: Accuracy = 0.8904\n",
      "Key Configuration Parameters:\n",
      "  - batch_size: 4\n",
      "  - learning_rate: 0.0001\n",
      "  - optimizer: adam\n",
      "  - dropout: 0.5\n",
      "  - pretrained: True\n",
      "----------------------------------------\n",
      "config_2: Accuracy = 0.9110\n",
      "Key Configuration Parameters:\n",
      "  - batch_size: 8\n",
      "  - learning_rate: 0.0003\n",
      "  - optimizer: adam\n",
      "  - dropout: 0.7\n",
      "  - pretrained: True\n",
      "----------------------------------------\n",
      "config_3: Accuracy = 0.6370\n",
      "Key Configuration Parameters:\n",
      "  - batch_size: 4\n",
      "  - learning_rate: 0.001\n",
      "  - optimizer: sgd\n",
      "  - dropout: 0.3\n",
      "  - pretrained: False\n",
      "----------------------------------------\n",
      "config_4: Accuracy = 0.7055\n",
      "Key Configuration Parameters:\n",
      "  - batch_size: 8\n",
      "  - learning_rate: 0.0003\n",
      "  - optimizer: adam\n",
      "  - dropout: 0.7\n",
      "  - pretrained: False\n",
      "----------------------------------------\n"
     ]
    }
   ],
   "source": [
    "TEST_FOLDER = \"../tests\"\n",
    "\n",
    "# Define your configurations as Python dictionaries\n",
    "CONFIG1 = {\n",
    "    'frame_height': 224,\n",
    "    'frame_width': 224,\n",
    "    'num_frames': 32,\n",
    "    'batch_size': 4,\n",
    "    'epochs': 15,\n",
    "    'learning_rate': 1e-4,\n",
    "    'device': torch.device('cuda' if torch.cuda.is_available() else 'cpu'),\n",
    "    'fold' : 3,\n",
    "    'optimizer': 'adam',\n",
    "    'scheduler': 'cosine',\n",
    "    'dropout': 0.5,\n",
    "    'model_type': 'r3d',\n",
    "    'pretrained': True,\n",
    "}\n",
    "\n",
    "# Set seed\n",
    "torch.manual_seed(42)\n",
    "random.seed(42)\n",
    "np.random.seed(42)\n",
    "\n",
    "CONFIG2 = {\n",
    "    'frame_height': 224,\n",
    "    'frame_width': 224,\n",
    "    'num_frames': 32,\n",
    "    'batch_size': 8,\n",
    "    'epochs': 16,\n",
    "    'learning_rate': 3e-4,\n",
    "    'device': torch.device('cuda' if torch.cuda.is_available() else 'cpu'),\n",
    "    'fold' : 3,\n",
    "    'optimizer': 'adam',\n",
    "    'scheduler': 'cosine',\n",
    "    'dropout': 0.7,\n",
    "    'model_type': 'r3d',\n",
    "    'pretrained': True,\n",
    "}\n",
    "\n",
    "CONFIG3 = {\n",
    "    'frame_height': 232,\n",
    "    'frame_width': 232,\n",
    "    'num_frames': 32,\n",
    "    'batch_size': 4,\n",
    "    'epochs': 8,\n",
    "    'learning_rate': 1e-3,\n",
    "    'device': torch.device('cuda' if torch.cuda.is_available() else 'cpu'),\n",
    "    'fold' : 3,\n",
    "    'optimizer': 'sgd',\n",
    "    'scheduler': 'cosine',\n",
    "    'dropout': 0.3,\n",
    "    'model_type': 'r3d',\n",
    "    'pretrained': False,\n",
    "}\n",
    "\n",
    "CONFIG4 = {\n",
    "    'frame_height': 224,\n",
    "    'frame_width': 224,\n",
    "    'num_frames': 32,\n",
    "    'batch_size': 8,\n",
    "    'epochs': 16,\n",
    "    'learning_rate': 3e-4,\n",
    "    'device': torch.device('cuda' if torch.cuda.is_available() else 'cpu'),\n",
    "    'fold' : 3,\n",
    "    'optimizer': 'adam',\n",
    "    'scheduler': 'cosine',\n",
    "    'dropout': 0.7,\n",
    "    'model_type': 'r3d',\n",
    "    'pretrained': False,\n",
    "}\n",
    "\n",
    "# Paths to your saved models (change these to your model paths)\n",
    "MODEL_PATH1 = \"models/best_model_config1.pth\"\n",
    "MODEL_PATH2 = \"models/best_model_config2.pth\"\n",
    "MODEL_PATH3 = \"models/best_model_config3.pth\"\n",
    "MODEL_PATH4 = \"models/best_model_config4.pth\"\n",
    "\n",
    "# Run ablation study\n",
    "results = run_ablation_study(\n",
    "    configs=[CONFIG1, CONFIG2, CONFIG3, CONFIG4],\n",
    "    model_paths=[MODEL_PATH1, MODEL_PATH2, MODEL_PATH3, MODEL_PATH4],\n",
    "    test_folder=TEST_FOLDER,\n",
    "    video_paths=video_paths,\n",
    "    labels=labels,\n",
    "    idx_to_label=idx_to_label,\n",
    "    output_dir=\"ablation_results\"\n",
    ")\n",
    "\n",
    "# Print summary\n",
    "print(\"\\n==== ABLATION STUDY RESULTS ====\")\n",
    "for config_name, result in results.items():\n",
    "    print(f\"{config_name}: Accuracy = {result['accuracy']:.4f}\")\n",
    "    print(f\"Key Configuration Parameters:\")\n",
    "    for param in ['batch_size', 'learning_rate', 'optimizer', 'dropout', 'pretrained']:\n",
    "        print(f\"  - {param}: {result['config'][param]}\")\n",
    "    print(\"-\" * 40)"
   ]
  }
 ],
 "metadata": {
  "kernelspec": {
   "display_name": "myenv",
   "language": "python",
   "name": "python3"
  },
  "language_info": {
   "codemirror_mode": {
    "name": "ipython",
    "version": 3
   },
   "file_extension": ".py",
   "mimetype": "text/x-python",
   "name": "python",
   "nbconvert_exporter": "python",
   "pygments_lexer": "ipython3",
   "version": "3.12.3"
  }
 },
 "nbformat": 4,
 "nbformat_minor": 5
}
